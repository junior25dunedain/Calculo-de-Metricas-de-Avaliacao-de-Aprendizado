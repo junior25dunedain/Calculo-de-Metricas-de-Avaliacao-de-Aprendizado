{
  "nbformat": 4,
  "nbformat_minor": 0,
  "metadata": {
    "colab": {
      "provenance": [],
      "authorship_tag": "ABX9TyMjqmBj7kuKe0LZWStMbSUH",
      "include_colab_link": true
    },
    "kernelspec": {
      "name": "python3",
      "display_name": "Python 3"
    },
    "language_info": {
      "name": "python"
    },
    "accelerator": "GPU",
    "gpuClass": "standard"
  },
  "cells": [
    {
      "cell_type": "markdown",
      "metadata": {
        "id": "view-in-github",
        "colab_type": "text"
      },
      "source": [
        "<a href=\"https://colab.research.google.com/github/casjunior93/Calculo-de-Metricas-de-Avaliacao-de-Aprendizado/blob/main/desafio.ipynb\" target=\"_parent\"><img src=\"https://colab.research.google.com/assets/colab-badge.svg\" alt=\"Open In Colab\"/></a>"
      ]
    },
    {
      "cell_type": "markdown",
      "source": [
        "# Cálculo de Métricas de Avaliação de Aprendizado"
      ],
      "metadata": {
        "id": "HEQ6RBymKXh7"
      }
    },
    {
      "cell_type": "markdown",
      "source": [
        "Neste projeto, vamos calcular as principais métricas para avaliação de modelos de classificação de dados, como acurácia, sensibilidade (recall), especificidade, precisão e F-score."
      ],
      "metadata": {
        "id": "VRQDnG_SKd4o"
      }
    },
    {
      "cell_type": "markdown",
      "source": [
        "# Bibliotecas essenciais"
      ],
      "metadata": {
        "id": "dXSTxQsiKiN0"
      }
    },
    {
      "cell_type": "code",
      "source": [
        "import numpy as np\n",
        "import pandas as pd\n",
        "import seaborn as sns\n",
        "import matplotlib.pyplot as plt\n",
        "import warnings\n",
        "warnings.filterwarnings('ignore')\n",
        "\n",
        "#Configura o pandas para não exibir resultados em notação científica\n",
        "pd.options.display.float_format = '{:.2f}'.format"
      ],
      "metadata": {
        "id": "t2sSkzxFKZlu"
      },
      "execution_count": 1,
      "outputs": []
    },
    {
      "cell_type": "markdown",
      "source": [
        "# Roteiro"
      ],
      "metadata": {
        "id": "7j-Rjr_hL7wa"
      }
    },
    {
      "cell_type": "markdown",
      "source": [
        "Para criar a matriz de confusão que será usada nesse desafio, vou criar um modelo de classificação para dar suporte a essa matriz. Este modelo de classificação utiliza o conjunto de dados MNIST, composto por 70 mil imagens de algarismos escritos à mão. O objetivo é classificar os algarismos das imagens. Este exemplo de classificação está descrito no livro  Mãos à Obra: Aprendizado de Máquina com Scikit-Learn, Keras & TensorFlow, de Aurélien Géron.\n",
        "\n",
        "Além de gerar a matriz e as métricas, será abordado também a validação cruzada."
      ],
      "metadata": {
        "id": "xB3qNjQFMAiU"
      }
    },
    {
      "cell_type": "markdown",
      "source": [
        "# Obtendo os dados"
      ],
      "metadata": {
        "id": "5I2ZOQ4fNUEc"
      }
    },
    {
      "cell_type": "code",
      "source": [
        "from sklearn.datasets import fetch_openml"
      ],
      "metadata": {
        "id": "NXiL4khWL_Ge"
      },
      "execution_count": 2,
      "outputs": []
    },
    {
      "cell_type": "code",
      "source": [
        "%%time\n",
        "mnist = fetch_openml('mnist_784', version=1)\n",
        "mnist.keys()"
      ],
      "metadata": {
        "colab": {
          "base_uri": "https://localhost:8080/"
        },
        "id": "gEfzyNnqNfRV",
        "outputId": "2eb689af-8f9a-44de-8da1-4ce10e9ae757"
      },
      "execution_count": 3,
      "outputs": [
        {
          "output_type": "stream",
          "name": "stdout",
          "text": [
            "CPU times: user 44.5 s, sys: 2 s, total: 46.5 s\n",
            "Wall time: 50.9 s\n"
          ]
        },
        {
          "output_type": "execute_result",
          "data": {
            "text/plain": [
              "dict_keys(['data', 'target', 'frame', 'categories', 'feature_names', 'target_names', 'DESCR', 'details', 'url'])"
            ]
          },
          "metadata": {},
          "execution_count": 3
        }
      ]
    },
    {
      "cell_type": "markdown",
      "source": [
        "Conferindo os dados:"
      ],
      "metadata": {
        "id": "2VwVmhLNOHbI"
      }
    },
    {
      "cell_type": "code",
      "source": [
        "X, y = mnist['data'], mnist['target']"
      ],
      "metadata": {
        "id": "XmKLI05gNrya"
      },
      "execution_count": 4,
      "outputs": []
    },
    {
      "cell_type": "code",
      "source": [
        "X.shape"
      ],
      "metadata": {
        "colab": {
          "base_uri": "https://localhost:8080/"
        },
        "id": "hyoEaGcKOOKZ",
        "outputId": "c243165b-f215-431d-a92d-4b7704576180"
      },
      "execution_count": 5,
      "outputs": [
        {
          "output_type": "execute_result",
          "data": {
            "text/plain": [
              "(70000, 784)"
            ]
          },
          "metadata": {},
          "execution_count": 5
        }
      ]
    },
    {
      "cell_type": "code",
      "source": [
        "y.shape"
      ],
      "metadata": {
        "colab": {
          "base_uri": "https://localhost:8080/"
        },
        "id": "IRtGkdInOSeM",
        "outputId": "beb8ecc7-eaee-4fdf-d78d-ead46c1eae5f"
      },
      "execution_count": 6,
      "outputs": [
        {
          "output_type": "execute_result",
          "data": {
            "text/plain": [
              "(70000,)"
            ]
          },
          "metadata": {},
          "execution_count": 6
        }
      ]
    },
    {
      "cell_type": "markdown",
      "source": [
        "# Separando os dados em conjuntos de teste e treino"
      ],
      "metadata": {
        "id": "wh4MsXAjOYNb"
      }
    },
    {
      "cell_type": "code",
      "source": [
        "X_treino, X_teste, y_treino, y_teste = X[:60000], X[60000:], y[:60000], y[60000:]"
      ],
      "metadata": {
        "id": "EJcjFPTNOUFP"
      },
      "execution_count": 7,
      "outputs": []
    },
    {
      "cell_type": "markdown",
      "source": [
        "# Utilizando um classificador multiclasse\n",
        "\n",
        "O objetivo é criar um sistema que consiga classificar as imagens de algarismos em 10 classes, de 0 a 9."
      ],
      "metadata": {
        "id": "BRWjdAKUPwNE"
      }
    },
    {
      "cell_type": "code",
      "source": [
        "from sklearn.svm import SVC"
      ],
      "metadata": {
        "id": "MdqU9WwSO-oB"
      },
      "execution_count": 8,
      "outputs": []
    },
    {
      "cell_type": "code",
      "source": [
        "svm_clf = SVC()"
      ],
      "metadata": {
        "id": "oYytprjAQCV_"
      },
      "execution_count": 9,
      "outputs": []
    },
    {
      "cell_type": "code",
      "source": [
        "%%time\n",
        "svm_clf.fit(X_treino, y_treino)"
      ],
      "metadata": {
        "colab": {
          "base_uri": "https://localhost:8080/"
        },
        "id": "RlhxwNqVQE1O",
        "outputId": "726e8190-60fd-4a69-d81c-c9b170518feb"
      },
      "execution_count": 10,
      "outputs": [
        {
          "output_type": "stream",
          "name": "stdout",
          "text": [
            "CPU times: user 4min 1s, sys: 435 ms, total: 4min 2s\n",
            "Wall time: 4min 1s\n"
          ]
        },
        {
          "output_type": "execute_result",
          "data": {
            "text/plain": [
              "SVC()"
            ]
          },
          "metadata": {},
          "execution_count": 10
        }
      ]
    },
    {
      "cell_type": "markdown",
      "source": [
        "# Acurácia"
      ],
      "metadata": {
        "id": "YcmD-aPdYsxI"
      }
    },
    {
      "cell_type": "code",
      "source": [
        "from sklearn.model_selection import cross_val_score"
      ],
      "metadata": {
        "id": "4QK84qXuYvjr"
      },
      "execution_count": 11,
      "outputs": []
    },
    {
      "cell_type": "code",
      "source": [
        "%%time\n",
        "cross_val_score(svm_clf, X_treino, y_treino, cv=3, scoring='accuracy')"
      ],
      "metadata": {
        "id": "dyovEgsyYyT7",
        "outputId": "c28eb974-a98e-4e5f-8739-1e73fc0bd9cc",
        "colab": {
          "base_uri": "https://localhost:8080/"
        }
      },
      "execution_count": 12,
      "outputs": [
        {
          "output_type": "stream",
          "name": "stdout",
          "text": [
            "CPU times: user 12min 58s, sys: 1.03 s, total: 12min 59s\n",
            "Wall time: 12min 54s\n"
          ]
        },
        {
          "output_type": "execute_result",
          "data": {
            "text/plain": [
              "array([0.977 , 0.9738, 0.9739])"
            ]
          },
          "metadata": {},
          "execution_count": 12
        }
      ]
    },
    {
      "cell_type": "markdown",
      "source": [
        "# Matriz de confusão para modelo multiclasse"
      ],
      "metadata": {
        "id": "O2lq9lRkVxEF"
      }
    },
    {
      "cell_type": "markdown",
      "source": [
        "Material de ajuda: \n",
        "\n",
        "[Confusion Matrix for Multiclass Classification](https://medium.com/mlearning-ai/confusion-matrix-for-multiclass-classification-f25ed7173e66)"
      ],
      "metadata": {
        "id": "Hmw51TI1bppy"
      }
    },
    {
      "cell_type": "code",
      "source": [
        "from sklearn.metrics import plot_confusion_matrix, accuracy_score, recall_score, precision_score, plot_roc_curve"
      ],
      "metadata": {
        "id": "Hj4ES3pmWLbg"
      },
      "execution_count": 13,
      "outputs": []
    },
    {
      "cell_type": "code",
      "source": [
        "%%time\n",
        "plt.figure(figsize=(35, 35))\n",
        "plot_confusion_matrix(svm_clf, X_treino, y_treino, cmap='Blues')\n",
        "plt.title('Matriz de confusão de modelo de classificação multiclasse')\n",
        "plt.show();"
      ],
      "metadata": {
        "colab": {
          "base_uri": "https://localhost:8080/",
          "height": 347
        },
        "id": "_sSyR-5xQhWg",
        "outputId": "69fbe28f-43e9-4644-90ad-9e3b30974eb1"
      },
      "execution_count": 14,
      "outputs": [
        {
          "output_type": "display_data",
          "data": {
            "text/plain": [
              "<Figure size 2520x2520 with 0 Axes>"
            ]
          },
          "metadata": {}
        },
        {
          "output_type": "display_data",
          "data": {
            "text/plain": [
              "<Figure size 432x288 with 2 Axes>"
            ],
            "image/png": "[encoded data removed]"
          },
          "metadata": {
            "needs_background": "light"
          }
        },
        {
          "output_type": "stream",
          "name": "stdout",
          "text": [
            "CPU times: user 9min 5s, sys: 580 ms, total: 9min 6s\n",
            "Wall time: 9min 7s\n"
          ]
        }
      ]
    },
    {
      "cell_type": "markdown",
      "source": [
        "## FP, FN, VP, VN"
      ],
      "metadata": {
        "id": "mnAbrakGGxyk"
      }
    },
    {
      "cell_type": "code",
      "source": [
        "%%time\n",
        "from sklearn.model_selection import cross_val_predict\n",
        "y_treino_pred = cross_val_predict(svm_clf, X_treino, y_treino)"
      ],
      "metadata": {
        "colab": {
          "base_uri": "https://localhost:8080/"
        },
        "id": "LtM6hOG_aTqM",
        "outputId": "f14987ea-b917-489c-b850-9a1f1360e2e4"
      },
      "execution_count": 20,
      "outputs": [
        {
          "output_type": "stream",
          "name": "stdout",
          "text": [
            "CPU times: user 20min 22s, sys: 1.43 s, total: 20min 24s\n",
            "Wall time: 20min 21s\n"
          ]
        }
      ]
    },
    {
      "cell_type": "code",
      "source": [
        "%%time\n",
        "from sklearn.metrics._plot.confusion_matrix import confusion_matrix\n",
        "matriz_conf = confusion_matrix(y_treino, y_treino_pred)"
      ],
      "metadata": {
        "id": "kpIeFBsNGwIf",
        "colab": {
          "base_uri": "https://localhost:8080/"
        },
        "outputId": "ff4883d1-db6b-4981-a0d2-745fb8342e57"
      },
      "execution_count": 22,
      "outputs": [
        {
          "output_type": "stream",
          "name": "stdout",
          "text": [
            "CPU times: user 175 ms, sys: 4 ms, total: 179 ms\n",
            "Wall time: 182 ms\n"
          ]
        }
      ]
    },
    {
      "cell_type": "code",
      "source": [
        "FP = matriz_conf.sum(axis=0) - np.diag(matriz_conf)  \n",
        "FN = matriz_conf.sum(axis=1) - np.diag(matriz_conf)\n",
        "VP = np.diag(matriz_conf)\n",
        "VN = matriz_conf.sum() - (FP + FN + VP)"
      ],
      "metadata": {
        "id": "fcTVHWSjxMQr"
      },
      "execution_count": 42,
      "outputs": []
    },
    {
      "cell_type": "markdown",
      "source": [
        "## Sensibilidade/Revocação/Recall\n",
        "\n",
        "Ou taxa de verdadeiros positivos. Proporção de instâncias que são detectadas corretamente pelo classificador.\n",
        "\n",
        "![revocacao.png](data:image/png;base64,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)"
      ],
      "metadata": {
        "id": "BhZHKK2S39eo"
      }
    },
    {
      "cell_type": "code",
      "source": [
        "sensibilidade = VP / (VP + FN)\n",
        "sensibilidade"
      ],
      "metadata": {
        "colab": {
          "base_uri": "https://localhost:8080/"
        },
        "id": "FnNVGvX5yVq7",
        "outputId": "7ddbc908-f212-4953-90f6-42b729bf9d3d"
      },
      "execution_count": 43,
      "outputs": [
        {
          "output_type": "execute_result",
          "data": {
            "text/plain": [
              "array([0.9903765 , 0.98961732, 0.97717355, 0.96346436, 0.97757617,\n",
              "       0.97122302, 0.98766475, 0.97685555, 0.96974876, 0.96385947])"
            ]
          },
          "metadata": {},
          "execution_count": 43
        }
      ]
    },
    {
      "cell_type": "markdown",
      "source": [
        "## Precisão\n",
        "\n",
        "Acurácia das predições positivas.\n",
        "\n",
        "![precisao.png](data:image/png;base64,iVBORw0KGgoAAAANSUhEUgAAAWoAAACLCAYAAABIt9NwAAAAAXNSR0IArs4c6QAAE7FJREFUeF7tnQlwVFW6x/+hs5CQhCxAREg9srA+EWEkIMMUEwEdHRfG0YdsLjWoyBQyA4pCQUY2JSrMiIYqRB0JqIzvjQ8G4RUqoGApuIAIkg7boAGBQPal7aQ7/eo7zW06odPdpJrk3tz/raJI33Pvud/3+079+/R3zxLmcrlc4EECJEACJKBbAmEUat3GhoaRAAmQgCJAoWZDIAESIAGdE6BQ6zxANI8ESIAEKNRsAyRAAiSgcwIUap0HiOaRAAmQAIWabYAESIAEdE6AQq3zANE8EiABEqBQsw2QAAmQgM4JUKh1HiCaRwIkQAIUarYBEiABEtA5AQq1zgNE80iABEiAQs02QAIkQAI6J0Ch1nmAaB4JkAAJUKjZBkiABEhA5wQo1DoPEM0jARIgAQo12wAJkAAJ6JwAhVrnAaJ5JEACJEChZhsgARIgAZ0ToFDrPEA0jwRIgAQo1GwDJEACJKBzAhRqnQeI5pEACZAAhZptgARIgAR0ToBCrfMA0TwSIAESoFCzDZAACZCAzglQqHUeIJpHAiRAAhRqtgESIAES0DkBCrXOA0TzSIAESIBCzTZAAiRAAjonQKHWeYBoHgmQAAlQqNkGSIAESEDnBCjUOg8QzSMBEiABCjXbAAmQAAnonACFWucBonkkQAIkQKFmGyABEiABnROgUOs8QDSPBEiABCjUbAMkQAIkoHMCFGqdB4jmkQAJkACFmm2ABEiABHROgEKt8wDRPBIgARKgULMNkAAJkIDOCVCodR4gmkcCJEACFGq2ARIgARLQOQEKtc4DRPNIgARIgELNNkACJEACOidAodZ5gGiewQk4KtwOhHc2uCM0vy0JUKjbkj6frWsCr+5Zjfyz7/u18dqwLvj72DwkxiT4vM6+e5A6bxn43whP6KNrf2mcfglQqPUbG1rWhgQ2W7fi2bLlGJM6yqcVVQ3VnvPfHziET+/c6vO6+oLFiHBZUW8Zhoi+T7ShR3y0kQlQqI0cPdp+1QisOLgCefVv+6z/hO0IdvT+FzqiEyafehwnzu6D63aXb6EuXImI+k9gixyP6D7jA9p74MAB5OXlISkpCfX19aiqqsLSpUvVfcuWLVP/y7m77roLd9xxR8D6eEH7IEChbh9xpBchJiBCPbvyLz5r/X3E7fifrH9gnHUyNpVsAkqq4brLh1BLfvr78YAlBrWdn0ZM6rCAVp4/fx6FhYXIz89HZmYmRowYgaysLJw6dQp333031q1bh+rqakyYMAHvvvsuRo4cGbBOXmB8AhRq48eQHlwFAkqoS2b7rLk0qwy7qnZhXMHdQESsT6F2Op2wf/UQYhI6qTpsP32F6P7u+pxIhqX7rX6tfuGFFzBgwABPr/nEiROYNWsWNm7cqO575ZVX0KVLFyXYPNo/AQp1+48xPWwBAU2ol6csx03JIzHisLs3LJ9n9Z+FsE/CLtVaCU+P2rn/fs95S/TFF4yOYtjLjiMqMQPoEA17yaGALxd9CXVGRoYSa0l9rFmzBsePH0d6enoLvOMtRiNAoTZaxGhvqxDw7lG7fu1C/pF8PHjsQZWLzinIweJziy/ZcRZw3e+Co/wIwn9aCHSIu1TWUIXSws9RUlSK5NQkdb6mugNSpxy/4h61d+pj4MCB6NyZQ/5apTHo4CEUah0EgSboj4AS6iJ3quL3Xf5L5aS/KP4S3eO6IW1nGhDjZfNFoUbVd0BRbmOhdhSj9Oh+dXFSel+Vr3Zc+BB1Gdv95qwDpT70R4wWXU0CFOqrSZd1G5aAt1DDAewYvgPZ3bLxiy9GY1/ZjsZ+SerjfheUUJ+YA0QkAw029zXOWtgrz+DH/SfRMbELOsU2wObohR737byiHnVBQQEefvhh7Nmzx7BMaXjLCVCoW86Od7ZjAo2E+qKfazPX4kHrg0B4E8c1oXZUwPFZD1V44UQNuqR3gtOSoT6LUPe8LhMdIhxoqA9H9M3f+KX37bffIj4+3pODrqurQ0VFBbp27dqOqdO15ghQqNk2SMAHgZO2k0jb1CTF0QypBSkLsGjYIlVaW7QX5777HFGpv0S47Qgq9v4RcbGVqKqOVznqurKTiB+7J6ihegwMCWgEKNQhaguSUywtLVWTFOTo1asXpk+fDovFEqInBFeNjK09fPgwFi/2etkV3K149NFH1WgCeWk1depUfPbZZ1i0aBEiIyODrKF9XSZi/eZ3b/p1KjMxEw/0eaDZa6QnfMH6LSIaShBVf1hd13HQDNMybV8tpPW8oVCHiLW8he/evTuGDBmiaszNzcXYsWPx4YcfhugJwVXTUqGWn9VPPfUUsrOzsXXrVqxfv14NBVu+fHlwD+ZVJEACV40AhTpEaEWo582b55mAIBMUZNxreXk5h1GFiDGrIQGzEqBQhyjyTYVaeqgJCQkoLi5WL4BSU1ORk5ODsrIyPP300+qpkqLo37+/+ltmsj300EOqJ6sd8kJp0CD36muByrW0hXavy9V4SrP0tCdOnOipe/LkyXjrrbc8qRn5Yhk1apSaqiyH2Ci/CrR6mpYPGzYM27Zt45dQiNoPqyEBfwQo1CFqH8OHD8c999yDW265RdW4atUqle+12+0qHynnP/roI1W2efNm7Ny5EytWrPCUz549G++9954qi4qKwjvvvIMlS5Z4yp955hklnLt370ZsbCw2bNigPms9dhHSyspKlWqR6cVFRUUezyRPKnW+9tpram0IsWnw4MFYuXIlZsyYoa4LCwuDiLfYIetJiG09e/b01ONdLtdPmzZNjUoINrUjNj3xROPV4/bv348bbrghRBFgNSTQfglQqEMUWxHqvXv3NqrNu8cs5b1798Ybb7yhhLtpj1vKr7/+erUqmhwyTVh6wFqPXIT+vvvuwyOPPOLpYUv++LHHHmvUq/3ggw/w+OOPNxJquUF6/IcOHVI9ZRHr2267zdOb1oTce0qy1gOXHrX05sPDwxtNWd6xYwdGjx7t6XEHwiiLDZ0+fbrRZWlpac32yIWPLEzUsWPHQFWzvI0IyDsZruDXOvAp1CHiLEL4/PPPN9twRYhnzpzZ7CI6Wk9c6pEjIiJC/XvyySeVmDUV6ubMbk6o5Xop03ry8nn79u24+eab4UuovYW4LYQ6RGFhNSTQLghQqEMUxqY56qbVBhJqKZ80aZInFdG0xy1CPWbMGMyZM0dVLT3Ubt26eXrc2vN8CbUI8dy5c9UXiTbUTktFSI9ZE2rvXwCSApH0h3eP2jtnLs+58847g+5RM/URoobGakxJgEIdorAHEupA5VqqQVIbsmi85J/lhZ02ZTiY8q+//lqlJzZt2oT58+fj3LlzatF5eZkpOWbJOcuXgRxSv4yX1pbNnDJlinqRqb1E1LBoLxO9y2WsuIi41KF9cYQII6shARLwQYBCHaJmIaMu/O26EahczJB0w5YtW5RFvibM+CsXIReh1lImtbW1nt1BRKilh7569Wol3lr9kt/2nswiLz+tVitSUlLUgvXSa9Z2FZF7tHL5+8Ybb+RayCFqO6yGBAIRoFAHIsRyEiABEmhjAhTqNg4AH08CJEACgQhQqAMRYjkJkAAJtDEBCnUbB4CP90/g1T2r8eXPB/1e1Cs6CfMHz/e50JHadeV8Hpyxtwfcp1BvsXDNmYP6JUuaXcBJysNklmtysk/TnWe2qfOB9mfUm9+053ICFGq2Ct0S2Gzdiv+L+QT9OvbxaWONs8ZzvqDwKPJ//erl18lO4P/OgbP6HCwDVwPh+t++SoZLhk+ZAsfu3Qj/1a/gWLfuMrFWIr5+PeyJiYjbtcu3WJ+YBwija/4AxF2v2zjTsMAEKNSBGfGKNiIgi/fvitjn8+k/2ouQ1/1FVZZbuhJFZWfwzU3bfVt6dCbgtAOZuUEJ9YEDByCjaGSYpMwQlRE0MgZdRs7ItHvtkCnxwS7kLzu0yNDJYGfylb35JjrNn6+EuNN11zUSaxHp0g0bEOdwoOaBBxC/dKnv5XTPvAPYDsEZPSqoXrX499JLL3n8E79l6QIZGeR9XoaNButHGzWddvdYCnW7C2n7cUiEOq/+bXS2xDZyqsJZjUnRv8Wi/oswzjoZB2sLEFlVi4JRBZc5r1IfpW/BWXEClsEbgoKjTXeX9VqGDh2q/sk4+CNHjqiJQwsXLlRT9OXvgwf9p2W0B16pUMt9TcW6w6pVcOXmNhLpxGXLmvfp5PNA/Vk4uv4R4Qm+f5V43yx+yyQmGcYp4+erq6uRlZWlvqC8zz/77LNqxqwsRcCjdQhQqFuHM5/SAgKaUGu3aoK9v3ofHMPL8cGFLRh3bBIGxw6Brbz4MqGWqe+WHxa4N5v9+Qc4O/8Olq7D3dUFkQKRzSBkPLkmSCK2a9eu9Ywtl0lETVcpbM7Nlgi11FXyz38ibsYM1bPWjrqqKnSYOBF+RVp60/YfgIYq1Ndfg7CU36jbw+Iymt3MQoRaJlxpk6C05zU9L7825JgwYUILospbWkKAQt0SarynVQiofQsr/4K1XfPQO6EfRhwdrZ4rn2VXlYx9v/DYofWolTgX/wNOJMNi+/TSjuAi1LZyWDqnq3vq7dGI6L/Arx++hFo2mJUNIU6ePIno6Gi1ImFzh0y5l16pHNIDl38i/NoRbI9UxDoyJ8dzX/X48eju9VkrkJeHDZWF6mNExFm37w1V7l8TF/2WnLUzfYVPsRZBlrVfxo0bp+qQJQpkdcWm52VVR+8FvFqlMZj8IRRqkzcAPbvvnfrYN+hT5B/Jx8Lql3F8yDfIKcjB27YtKi0iqRCPUJ/Z5hZoOUSo5GiowulvvlB/Jqb2VP87LDcgfujsKxbq5557Tv3sl550oCVa/Qm1vDAUUQzmkJx09cUZq3J905y1nFNfUEUvXFZd7dnDKCs6hWsyU2C3R8Ae1h+Jw+b5fKwIsiwx8OKLLyr/5BeDrIfeNCXib9XDYPzhNVdOgEJ95cx4RysR8E59aDlp2cdQjrR9A9HP4RZd7VA5au0nv3fBzz/g9MFCJVaqZ+msQW1JKWKGr7tioX799ddbtD1ZS1Mf3iJd2bcv4gvdPWZHUhI6bd9+aTSIjG75MffSl9PFLyjpTcthiU1R//sb/RJs6qOVws/HeBGgULM56JaACPWa0jXKPqvLis8H7MVN3bJw75fj8b3tu8vs9gi17VCj3jTqSpVQex9Jg6Yhus94v74vWLAAt956qydHLaNB8vLy/KY7mquwJUKtibTkpOumTlXpDkmD4M9/RmRcXGOxvjgMEZZO7iF5Fw8R5rPHznl+SYQl3dGs31qPuulmEFqPWlsgTLcNph0bRqFux8E1umveQi2+xERei5z0mXjG6t7KzPuwnrHCdb/L3aMu2wKn3enuSUYnqP9ry2sQFVXv+VwfNgARfRvvONO0Tkld9OjRwzMET9IVNputRduPXYlQSxqjw9y5Kt3hLdKafU3FOnHjRvc4aus02H76ChdOl6NLjwREJvZWt/xUeA7Jvdy/PmL+4zag+6Ut2bx9Fv9kK7b0dHce3yP2TidKS0uDHopo9HanR/sp1HqMCm1SBCTNkbYzDf069fMQsdZYG32WAultr712rXrBCEcFTv/vONiRgbCY/0Rk7b+QlFyJ0pJ4NDiBDhZ3Vdfc83Gzox/0gP/syy8j8k9/gn3hQp8vDkWsw+69F/bp05H817+6UyCOCpw/9Dm6pmahtvYYyr7+G2znv0RUNHDtdUNRV3YUlpFfNDvTUQ9+0wbfBCjUbBm6JiBi/f6x9/3aODhlMLK7Zfu8RnqJ5fvfQ82F80hK/Ddio4tRbeuGziMuTVzRK4DzH3+MrmPGNGuelCdlZ/v9whH/IzvYUHvGisi4xKDGU+uVh5ntolCbOfr0nQRIwBAEKNSGCBONJAESMDMBCrWZo0/fSYAEDEGAQm2IMNFIEiABMxOgUJs5+vSdBEjAEAQo1IYIE40kARIwMwEKtZmjT99JgAQMQYBCbYgw0UgSIAEzE6BQmzn69J0ESMAQBCjUhggTjSQBEjAzAQq1maNP30mABAxBgEJtiDDRSBIgATMToFCbOfr0nQRIwBAEKNSGCBONJAESMDMBCrWZo0/fSYAEDEGAQm2IMNFIEiABMxOgUJs5+vSdBEjAEAQo1IYIE40kARIwMwEKtZmjT99JgAQMQYBCbYgw0UgSIAEzE6BQmzn69J0ESMAQBCjUhggTjSQBEjAzAQq1maNP30mABAxBgEJtiDDRSBIgATMToFCbOfr0nQRIwBAEKNSGCBONJAESMDMBCrWZo0/fSYAEDEGAQm2IMNFIEiABMxOgUJs5+vSdBEjAEAQo1IYIE40kARIwMwEKtZmjT99JgAQMQYBCbYgw0UgSIAEzE6BQmzn69J0ESMAQBCjUhggTjSQBEjAzAQq1maNP30mABAxBgEJtiDDRSBIgATMToFCbOfr0nQRIwBAEKNSGCBONJAESMDMBCrWZo0/fSYAEDEGAQm2IMNFIEiABMxOgUJs5+vSdBEjAEAQo1IYIE40kARIwMwEKtZmjT99JgAQMQYBCbYgw0UgSIAEzE6BQmzn69J0ESMAQBCjUhggTjSQBEjAzAQq1maNP30mABAxBgEJtiDDRSBIgATMToFCbOfr0nQRIwBAEKNSGCBONJAESMDMBCrWZo0/fSYAEDEGAQm2IMNFIEiABMxOgUJs5+vSdBEjAEAQo1IYIE40kARIwMwEKtZmjT99JgAQMQYBCbYgw0UgSIAEzE6BQmzn69J0ESMAQBP4f4WD42HW6K2IAAAAASUVORK5CYII=)"
      ],
      "metadata": {
        "id": "uCvPy_pyyy97"
      }
    },
    {
      "cell_type": "code",
      "source": [
        "precisao = VP / (VP + FP)\n",
        "precisao"
      ],
      "metadata": {
        "colab": {
          "base_uri": "https://localhost:8080/"
        },
        "id": "R7r1vOwByhvb",
        "outputId": "8112f72b-c178-4cf6-a89f-6bec691bba17"
      },
      "execution_count": 44,
      "outputs": [
        {
          "output_type": "execute_result",
          "data": {
            "text/plain": [
              "array([0.98637969, 0.98552437, 0.97130464, 0.97491335, 0.97059823,\n",
              "       0.97391787, 0.98334455, 0.97779198, 0.97257456, 0.97137049])"
            ]
          },
          "metadata": {},
          "execution_count": 44
        }
      ]
    },
    {
      "cell_type": "markdown",
      "source": [
        "## Especificidade\n",
        "\n",
        "Proporção de casos negativos que foram identificados corretamente."
      ],
      "metadata": {
        "id": "2mC7bjL21WuA"
      }
    },
    {
      "cell_type": "code",
      "source": [
        "especificidade = VN / (FP + VN)\n",
        "especificidade"
      ],
      "metadata": {
        "colab": {
          "base_uri": "https://localhost:8080/"
        },
        "id": "8Fro2Ns20mvf",
        "outputId": "04ccadc9-c25b-4214-e3db-ee892bbaca48"
      },
      "execution_count": 45,
      "outputs": [
        {
          "output_type": "execute_result",
          "data": {
            "text/plain": [
              "array([0.99850214, 0.9981599 , 0.99681729, 0.99717834, 0.99680564,\n",
              "       0.99741659, 0.99816945, 0.99741323, 0.99704519, 0.99687332])"
            ]
          },
          "metadata": {},
          "execution_count": 45
        }
      ]
    },
    {
      "cell_type": "markdown",
      "source": [
        "## F-score\n",
        "\n",
        "Combina a precisão e a revocação em uma única métrica."
      ],
      "metadata": {
        "id": "keDcxoRw2UBy"
      }
    },
    {
      "cell_type": "code",
      "source": [
        "f_score = 2 * (precisao * sensibilidade) / (precisao + sensibilidade)\n",
        "f_score"
      ],
      "metadata": {
        "colab": {
          "base_uri": "https://localhost:8080/"
        },
        "id": "hJSj8z3712-I",
        "outputId": "bdc5b917-99b2-4880-c3de-ac767022bb33"
      },
      "execution_count": 46,
      "outputs": [
        {
          "output_type": "execute_result",
          "data": {
            "text/plain": [
              "array([0.98837405, 0.98756661, 0.97423025, 0.96915505, 0.97407471,\n",
              "       0.97256858, 0.98549992, 0.97732354, 0.97115961, 0.9676004 ])"
            ]
          },
          "metadata": {},
          "execution_count": 46
        }
      ]
    },
    {
      "cell_type": "markdown",
      "source": [
        "## Acurácia"
      ],
      "metadata": {
        "id": "AbLMPfoW5yGB"
      }
    },
    {
      "cell_type": "code",
      "source": [
        "acuracia = (VP + VN) / X_treino.shape[0]\n",
        "acuracia"
      ],
      "metadata": {
        "id": "cXDA4le95zyD",
        "outputId": "6a6660c1-29ad-44a1-cbac-45edeae70c31",
        "colab": {
          "base_uri": "https://localhost:8080/"
        }
      },
      "execution_count": 60,
      "outputs": [
        {
          "output_type": "execute_result",
          "data": {
            "text/plain": [
              "array([0.9977    , 0.9972    , 0.99486667, 0.99373333, 0.99493333,\n",
              "       0.99505   , 0.99713333, 0.99526667, 0.99438333, 0.9936    ])"
            ]
          },
          "metadata": {},
          "execution_count": 60
        }
      ]
    }
  ]
}